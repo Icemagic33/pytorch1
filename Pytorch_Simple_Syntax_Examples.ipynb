{
  "nbformat": 4,
  "nbformat_minor": 0,
  "metadata": {
    "colab": {
      "provenance": [],
      "authorship_tag": "ABX9TyMK/tlQJ3VXBytsn0QCZaJU",
      "include_colab_link": true
    },
    "kernelspec": {
      "name": "python3",
      "display_name": "Python 3"
    },
    "language_info": {
      "name": "python"
    }
  },
  "cells": [
    {
      "cell_type": "markdown",
      "metadata": {
        "id": "view-in-github",
        "colab_type": "text"
      },
      "source": [
        "<a href=\"https://colab.research.google.com/github/Icemagic33/pytorch1/blob/main/Pytorch_Simple_Syntax_Examples.ipynb\" target=\"_parent\"><img src=\"https://colab.research.google.com/assets/colab-badge.svg\" alt=\"Open In Colab\"/></a>"
      ]
    },
    {
      "cell_type": "code",
      "execution_count": null,
      "metadata": {
        "id": "ceSYJCB_aWoQ"
      },
      "outputs": [],
      "source": [
        " # Create the linear regression model \n",
        " model = nn.Linear(1, 1)\n",
        " \n",
        " # Loss and optimizer \n",
        " criterion = nn.MSELoss()\n",
        " optimizer = torch.optim.SGD(model.parameters(), lr=0.1)"
      ]
    },
    {
      "cell_type": "code",
      "source": [
        "# In ML we want our data to be of shape: (num_samples x num_dimensions)\n",
        "X = X.reshape(N, 1)\n",
        "Y = Y.reshape(N, 1)\n",
        "\n",
        "# PyTorch uses float32 by default\n",
        "# Numpy creates float64 (double) by default \n",
        "inputs = torch.from_numpy(X.astype(np.float32))\n",
        "targets = torch.from_numpy(Y.astype(np.float32))"
      ],
      "metadata": {
        "id": "D6BeGK4rfGUt"
      },
      "execution_count": null,
      "outputs": []
    },
    {
      "cell_type": "code",
      "source": [
        "# Train the model\n",
        "n_epochs = 30 # generally call each iteration of loop epoch\n",
        "for it in range(n_epochs):\n",
        "  # zero the parameter gradients\n",
        "  optimizer.zero_grad()\n",
        "\n",
        "#Forward pass\n",
        "outputs = model(inputs) # model is an object of type nn.Linear (from earlier), but we use it like a function!\n",
        "# outputs is in torch tensor \n",
        "loss = criterion(outputs, targets)\n",
        "\n",
        "# Backward and optimize\n",
        "loss.backward() # calculate gradient\n",
        "optimizer.step()"
      ],
      "metadata": {
        "id": "TCkToEC0dzmO"
      },
      "execution_count": null,
      "outputs": []
    }
  ]
}