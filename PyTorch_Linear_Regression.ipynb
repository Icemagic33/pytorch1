{
  "nbformat": 4,
  "nbformat_minor": 0,
  "metadata": {
    "colab": {
      "provenance": [],
      "authorship_tag": "ABX9TyNRmUs4lJwL0KA4wv3PF8RI",
      "include_colab_link": true
    },
    "kernelspec": {
      "name": "python3",
      "display_name": "Python 3"
    },
    "language_info": {
      "name": "python"
    }
  },
  "cells": [
    {
      "cell_type": "markdown",
      "metadata": {
        "id": "view-in-github",
        "colab_type": "text"
      },
      "source": [
        "<a href=\"https://colab.research.google.com/github/Icemagic33/pytorch1/blob/main/PyTorch_Linear_Regression.ipynb\" target=\"_parent\"><img src=\"https://colab.research.google.com/assets/colab-badge.svg\" alt=\"Open In Colab\"/></a>"
      ]
    },
    {
      "cell_type": "code",
      "execution_count": 1,
      "metadata": {
        "id": "sSo-DsSNf2nN"
      },
      "outputs": [],
      "source": [
        "import torch\n",
        "import torch.nn as nn\n",
        "import numpy as np\n",
        "import matplotlib.pyplot as plt"
      ]
    },
    {
      "cell_type": "code",
      "source": [
        "# we would like to generate 20 data points\n",
        "N = 20\n",
        "\n",
        "# random data on the x-axis in (-5, +5)\n",
        "X = np.random.random(N)*10 - 5\n",
        "\n",
        "# a line plus some noise\n",
        "Y = 0.5 * X - 1 + np.random.randn(N) # true slope is 0.5 and true y-intercept is -1\n",
        "\n",
        "# you'll have to take my \"in-depth\" series to understand\n",
        "# why this is the CORRECT model to use our MSE loss"
      ],
      "metadata": {
        "id": "ZQLD4OvWf9X4"
      },
      "execution_count": 2,
      "outputs": []
    },
    {
      "cell_type": "code",
      "source": [
        "# Plot the data\n",
        "plt.scatter(X, Y);"
      ],
      "metadata": {
        "colab": {
          "base_uri": "https://localhost:8080/",
          "height": 430
        },
        "id": "UKTkjQYYhC28",
        "outputId": "63782b6d-a9be-46bb-91ea-6b6d2945928e"
      },
      "execution_count": 3,
      "outputs": [
        {
          "output_type": "display_data",
          "data": {
            "text/plain": [
              "<Figure size 640x480 with 1 Axes>"
            ],
            "image/png": "[encoded data removed]"
          },
          "metadata": {}
        }
      ]
    },
    {
      "cell_type": "code",
      "source": [
        "# Create the linear regression model\n",
        "model = nn.Linear(1,1)"
      ],
      "metadata": {
        "id": "7EY1NYUlhIRf"
      },
      "execution_count": 4,
      "outputs": []
    },
    {
      "cell_type": "code",
      "source": [
        "# Loss and optimizer\n",
        "criterion = nn.MSELoss()\n",
        "optimizer = torch.optim.SGD(model.parameters(), lr=0.1)"
      ],
      "metadata": {
        "id": "U_xJtbnThMMN"
      },
      "execution_count": 6,
      "outputs": []
    },
    {
      "cell_type": "code",
      "source": [
        "# In ML we want our data to be of shape: (num_samples x num_dimensions)\n",
        "X = X.reshape(N, 1)\n",
        "Y = Y.reshape(N, 1)\n",
        "\n",
        "# PyTorch uses float32 by default\n",
        "# Numpy creates float64 by default\n",
        "inputs = torch.from_numpy(X.astype(np.float32))\n",
        "targets = torch.from_numpy(Y.astype(np.float32))"
      ],
      "metadata": {
        "id": "k1IRgVqohaKY"
      },
      "execution_count": 7,
      "outputs": []
    },
    {
      "cell_type": "code",
      "source": [
        "type(inputs)"
      ],
      "metadata": {
        "colab": {
          "base_uri": "https://localhost:8080/"
        },
        "id": "8GR_Hb8ah27L",
        "outputId": "a9861edf-5a9d-40cd-b49b-e505050070b7"
      },
      "execution_count": 8,
      "outputs": [
        {
          "output_type": "execute_result",
          "data": {
            "text/plain": [
              "torch.Tensor"
            ]
          },
          "metadata": {},
          "execution_count": 8
        }
      ]
    },
    {
      "cell_type": "code",
      "source": [
        "# Train the model\n",
        "n_epochs = 30\n",
        "losses = []\n",
        "for it in range(n_epochs):\n",
        "  # zero the parameter gradients\n",
        "  optimizer.zero_grad() \n",
        "  # we do this step because PyTorch is accumulating the gradients each time \n",
        "  # you call backward. So, this will zero the gradient to prevent them from \n",
        "  # accumulating and give us the correct answer\n",
        "\n",
        "  # Forward pass\n",
        "  outputs = model(inputs)\n",
        "  loss = criterion(outputs, targets)\n",
        "\n",
        "  # keep the loss so we can plot it later\n",
        "  losses.append(loss.item())\n",
        "\n",
        "  # Backward and optimize\n",
        "  loss.backward()\n",
        "  optimizer.step() # one step of gradient descent\n",
        "\n",
        "  print(f'Epoch {it+1}/{n_epochs}, Loss: {loss.item():.4f}') "
      ],
      "metadata": {
        "colab": {
          "base_uri": "https://localhost:8080/"
        },
        "id": "Bd7Hz41Gh49X",
        "outputId": "8334ed76-1ca1-43b2-cd33-ad54a22338b0"
      },
      "execution_count": 9,
      "outputs": [
        {
          "output_type": "stream",
          "name": "stdout",
          "text": [
            "Epoch 1/30, Loss: 9.3615\n",
            "Epoch 2/30, Loss: 3.4391\n",
            "Epoch 3/30, Loss: 1.9856\n",
            "Epoch 4/30, Loss: 1.6015\n",
            "Epoch 5/30, Loss: 1.4829\n",
            "Epoch 6/30, Loss: 1.4363\n",
            "Epoch 7/30, Loss: 1.4129\n",
            "Epoch 8/30, Loss: 1.3993\n",
            "Epoch 9/30, Loss: 1.3908\n",
            "Epoch 10/30, Loss: 1.3853\n",
            "Epoch 11/30, Loss: 1.3816\n",
            "Epoch 12/30, Loss: 1.3793\n",
            "Epoch 13/30, Loss: 1.3777\n",
            "Epoch 14/30, Loss: 1.3767\n",
            "Epoch 15/30, Loss: 1.3760\n",
            "Epoch 16/30, Loss: 1.3756\n",
            "Epoch 17/30, Loss: 1.3753\n",
            "Epoch 18/30, Loss: 1.3751\n",
            "Epoch 19/30, Loss: 1.3750\n",
            "Epoch 20/30, Loss: 1.3749\n",
            "Epoch 21/30, Loss: 1.3748\n",
            "Epoch 22/30, Loss: 1.3748\n",
            "Epoch 23/30, Loss: 1.3748\n",
            "Epoch 24/30, Loss: 1.3748\n",
            "Epoch 25/30, Loss: 1.3747\n",
            "Epoch 26/30, Loss: 1.3747\n",
            "Epoch 27/30, Loss: 1.3747\n",
            "Epoch 28/30, Loss: 1.3747\n",
            "Epoch 29/30, Loss: 1.3747\n",
            "Epoch 30/30, Loss: 1.3747\n"
          ]
        }
      ]
    },
    {
      "cell_type": "code",
      "source": [
        "# Plot the loss per iteration\n",
        "plt.plot(losses);"
      ],
      "metadata": {
        "colab": {
          "base_uri": "https://localhost:8080/",
          "height": 430
        },
        "id": "k7VbrRsejdUi",
        "outputId": "65256ff2-5308-4768-ba4b-c69383f7c8f3"
      },
      "execution_count": 10,
      "outputs": [
        {
          "output_type": "display_data",
          "data": {
            "text/plain": [
              "<Figure size 640x480 with 1 Axes>"
            ],
            "image/png": "[encoded data removed]"
          },
          "metadata": {}
        }
      ]
    },
    {
      "cell_type": "code",
      "source": [
        "# Plot the graph\n",
        "predicted = model(inputs).detach().numpy() \n",
        "# detach the tensor and then call the numpy function\n",
        "# what if we don't detach? -> next cell\n",
        "plt.scatter(X, Y, label='Original data')\n",
        "plt.plot(X, predicted, label='Fitted line')\n",
        "plt.legend()\n",
        "plt.show()"
      ],
      "metadata": {
        "colab": {
          "base_uri": "https://localhost:8080/",
          "height": 430
        },
        "id": "GqdsLZ-AjjE9",
        "outputId": "60026547-e5b9-473f-e024-7ea9d97e196e"
      },
      "execution_count": 11,
      "outputs": [
        {
          "output_type": "display_data",
          "data": {
            "text/plain": [
              "<Figure size 640x480 with 1 Axes>"
            ],
            "image/png": "[encoded data removed]"
          },
          "metadata": {}
        }
      ]
    },
    {
      "cell_type": "code",
      "source": [
        "# Error! (What happens if we don't detach)\n",
        "# model(inputs).numpy() <- run this code! It will produce an error\n",
        "# Error message: Can't call numpy() on Tensor that requires grad. \n",
        "# Use tensor.detach().numpy() instead."
      ],
      "metadata": {
        "id": "PWUrDjemj-De"
      },
      "execution_count": 14,
      "outputs": []
    },
    {
      "cell_type": "code",
      "source": [
        "# Another way (Not to compute gradients)\n",
        "with torch.no_grad():\n",
        "  out = model(inputs).numpy()\n",
        "out"
      ],
      "metadata": {
        "colab": {
          "base_uri": "https://localhost:8080/"
        },
        "id": "0hbY3QcOkVkV",
        "outputId": "30de3886-bb54-48a6-e5e7-84236dcd0381"
      },
      "execution_count": 15,
      "outputs": [
        {
          "output_type": "execute_result",
          "data": {
            "text/plain": [
              "array([[ 0.73536986],\n",
              "       [-2.1026552 ],\n",
              "       [-0.6456988 ],\n",
              "       [-1.4726217 ],\n",
              "       [ 0.00549191],\n",
              "       [-1.4681878 ],\n",
              "       [-1.666193  ],\n",
              "       [-1.751907  ],\n",
              "       [-2.7003984 ],\n",
              "       [-1.1068921 ],\n",
              "       [-0.593959  ],\n",
              "       [-2.118379  ],\n",
              "       [-1.4292614 ],\n",
              "       [ 0.7833412 ],\n",
              "       [ 0.6526565 ],\n",
              "       [-2.8762822 ],\n",
              "       [ 0.5293054 ],\n",
              "       [-1.5888143 ],\n",
              "       [-2.9200876 ],\n",
              "       [-0.82319933]], dtype=float32)"
            ]
          },
          "metadata": {},
          "execution_count": 15
        }
      ]
    },
    {
      "cell_type": "code",
      "source": [
        "# Important!\n",
        "# In order to test the efficacy of our model, synthetic data is useful\n",
        "# Why?\n",
        "# Because **we know the answer**\n",
        "# TRue calues of (w, b) are (0.5, -1)\n",
        "w = model.weight.data.numpy()\n",
        "b = model.bias.data.numpy()\n",
        "# .numpy() brings the special PyTorch Tensor variable to a numpy land.\n",
        "print(w, b)\n",
        "# w is a 2D array and b is a 1D array (while both store single numbers)\n",
        "# this gives flexibility (more on this later)"
      ],
      "metadata": {
        "colab": {
          "base_uri": "https://localhost:8080/"
        },
        "id": "AemLDht6kckX",
        "outputId": "9866e04e-0210-4863-f968-b22d6b040fee"
      },
      "execution_count": 16,
      "outputs": [
        {
          "output_type": "stream",
          "name": "stdout",
          "text": [
            "[[0.4373054]] [-0.8687603]\n"
          ]
        }
      ]
    }
  ]
}